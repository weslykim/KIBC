{
 "cells": [
  {
   "cell_type": "code",
   "execution_count": 1,
   "metadata": {},
   "outputs": [],
   "source": [
    "import pandas as pd\n",
    "from sklearn.ensemble import RandomForestClassifier\n",
    "from sklearn.preprocessing import StandardScaler\n",
    "from sklearn.model_selection import train_test_split\n",
    "import matplotlib.pyplot as plt\n",
    "from sklearn.metrics import accuracy_score"
   ]
  },
  {
   "cell_type": "code",
   "execution_count": 2,
   "metadata": {},
   "outputs": [
    {
     "name": "stdout",
     "output_type": "stream",
     "text": [
      "   Unnamed: 0       status  loan_amnt       term  annual_inc    dti  \\\n",
      "0           1  Charged Off       2500  60 months       30000   1.00   \n",
      "1           2  Charged Off       5600  60 months       40000   5.55   \n",
      "2           3  Charged Off       5375  60 months       15000  18.08   \n",
      "3           4  Charged Off       9000  36 months       30000  10.08   \n",
      "4           5  Charged Off      10000  36 months      100000   7.06   \n",
      "\n",
      "   payment_inc_ratio  revol_bal  revol_util             purpose  ...  \\\n",
      "0            2.39320       1687         9.4                 car  ...   \n",
      "1            4.57170       5210        32.6      small_business  ...   \n",
      "2            9.71600       9279        36.5               other  ...   \n",
      "3           12.21520      10452        91.7  debt_consolidation  ...   \n",
      "4            3.90888      11997        55.5               other  ...   \n",
      "\n",
      "  delinq_2yrs_zero  pub_rec_zero  open_acc  grade  outcome emp_length  \\\n",
      "0                1             1         3    4.8  default          1   \n",
      "1                1             1        11    1.4  default          5   \n",
      "2                1             1         2    6.0  default          1   \n",
      "3                1             1         4    4.2  default          1   \n",
      "4                1             1        14    5.4  default          4   \n",
      "\n",
      "             purpose_ home_   emp_len_ borrower_score  \n",
      "0      major_purchase  RENT   > 1 Year           0.65  \n",
      "1      small_business   OWN   > 1 Year           0.80  \n",
      "2               other  RENT   > 1 Year           0.60  \n",
      "3  debt_consolidation  RENT   > 1 Year           0.50  \n",
      "4               other  RENT   > 1 Year           0.55  \n",
      "\n",
      "[5 rows x 21 columns]\n",
      "<class 'pandas.core.frame.DataFrame'>\n",
      "RangeIndex: 45342 entries, 0 to 45341\n",
      "Data columns (total 21 columns):\n",
      " #   Column             Non-Null Count  Dtype  \n",
      "---  ------             --------------  -----  \n",
      " 0   Unnamed: 0         45342 non-null  int64  \n",
      " 1   status             45342 non-null  object \n",
      " 2   loan_amnt          45342 non-null  int64  \n",
      " 3   term               45342 non-null  object \n",
      " 4   annual_inc         45342 non-null  int64  \n",
      " 5   dti                45342 non-null  float64\n",
      " 6   payment_inc_ratio  45342 non-null  float64\n",
      " 7   revol_bal          45342 non-null  int64  \n",
      " 8   revol_util         45342 non-null  float64\n",
      " 9   purpose            45342 non-null  object \n",
      " 10  home_ownership     45342 non-null  object \n",
      " 11  delinq_2yrs_zero   45342 non-null  int64  \n",
      " 12  pub_rec_zero       45342 non-null  int64  \n",
      " 13  open_acc           45342 non-null  int64  \n",
      " 14  grade              45342 non-null  float64\n",
      " 15  outcome            45342 non-null  object \n",
      " 16  emp_length         45342 non-null  int64  \n",
      " 17  purpose_           45342 non-null  object \n",
      " 18  home_              45342 non-null  object \n",
      " 19  emp_len_           45342 non-null  object \n",
      " 20  borrower_score     45342 non-null  float64\n",
      "dtypes: float64(5), int64(8), object(8)\n",
      "memory usage: 7.3+ MB\n",
      "None\n"
     ]
    }
   ],
   "source": [
    "folder = \"/home/ubnt/KIBC/PracticalStatics/data/\"\n",
    "loan_data = pd.read_csv(folder + \"loan_data.csv.gz\")\n",
    "print(loan_data.head())\n",
    "print(loan_data.info())"
   ]
  },
  {
   "cell_type": "code",
   "execution_count": 3,
   "metadata": {},
   "outputs": [],
   "source": [
    "predictors = [\"loan_amnt\", \"term\", \"annual_inc\", \"dti\", \"payment_inc_ratio\", \"revol_bal\", \"revol_util\"\n",
    "                  , \"purpose\", \"delinq_2yrs_zero\", \"pub_rec_zero\", \"open_acc\", \"grade\", \"emp_length\", \"purpose_\",\n",
    "                  \"home_\", \"emp_len_\", \"borrower_score\"]\n",
    "outcome = 'outcome'\n",
    "\n",
    "X = pd.get_dummies(loan_data[predictors], drop_first = True, dtype = int)\n",
    "Y = loan_data[outcome]"
   ]
  },
  {
   "cell_type": "code",
   "execution_count": 4,
   "metadata": {},
   "outputs": [],
   "source": [
    "X = pd.get_dummies(loan_data[predictors], drop_first = True, dtype = int)\n",
    "Y = loan_data[outcome]\n"
   ]
  },
  {
   "cell_type": "code",
   "execution_count": 5,
   "metadata": {},
   "outputs": [],
   "source": [
    "rf_all = RandomForestClassifier(n_estimators = 500, random_state = 1)\n",
    "rf_all.fit(X, Y)"
   ]
  },
  {
   "cell_type": "code",
   "execution_count": null,
   "metadata": {},
   "outputs": [],
   "source": [
    "rf_all_entropy = RandomForestClassifier(n_estimators = 500, criterion = 'entropy')\n",
    "rf_all_entropy.fit(X, Y)"
   ]
  }
 ],
 "metadata": {
  "kernelspec": {
   "display_name": "my_project",
   "language": "python",
   "name": "python3"
  },
  "language_info": {
   "codemirror_mode": {
    "name": "ipython",
    "version": 3
   },
   "file_extension": ".py",
   "mimetype": "text/x-python",
   "name": "python",
   "nbconvert_exporter": "python",
   "pygments_lexer": "ipython3",
   "version": "3.10.14"
  }
 },
 "nbformat": 4,
 "nbformat_minor": 2
}
